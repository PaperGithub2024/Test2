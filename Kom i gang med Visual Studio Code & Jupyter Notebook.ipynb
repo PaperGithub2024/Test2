{
 "cells": [
  {
   "cell_type": "markdown",
   "metadata": {},
   "source": [
    "# Opsætning af Visual Studio Code og Jupyter Notebook"
   ]
  },
  {
   "cell_type": "markdown",
   "metadata": {},
   "source": [
    "Selvom du kan skrive Python-kode i en grundlæggende teksteditor, kan brugen af et Integreret Udviklingsmiljø (IDE) forbedre din oplevelse. Populære valg inkluderer:     \n",
    "\n",
    "* **VSCode (Visual Studio Code):** En letvægts og kraftfuld IDE.\n",
    "* **PyCharm:** En funktionerig IDE designet specifikt til Python.    \n",
    "\n",
    "\n",
    "I dette kursus vil vi bruge Visual Studio Code som et kraftfuldt integreret udviklingsmiljø og også Jupyter Notebook som en open-source interaktiv applikation og beregningsmiljø, der giver dig mulighed for at oprette og dele dokumenter med levende kode, ligninger, visualiseringer og narrativ tekst. Det er et populært værktøj til dataanalyse, videnskabelig forskning og undervisningsformål."
   ]
  },
  {
   "cell_type": "markdown",
   "metadata": {},
   "source": [
    "### **Installer Visual Studio Code På Windows**"
   ]
  },
  {
   "cell_type": "markdown",
   "metadata": {},
   "source": [
    "1. Klik på Microsoft Store-appen for at åbne den. I Microsoft Store, skriv \"Visual Studio Code\" i søgefeltet øverst, og tryk Enter. Du vil se Visual Studio Code-appen i søgeresultaterne. Klik på den for at åbne dens beskrivelsesside."
   ]
  },
  {
   "cell_type": "markdown",
   "metadata": {},
   "source": [
    "<img src=\"Windows-Visual Studio Code Installatio-0.png\" alt=\"3-channel-1-channel\" style=\"width:900px; height:500px;\"/>"
   ]
  },
  {
   "cell_type": "markdown",
   "metadata": {},
   "source": [
    "2. På Visual Studio Code's side i Microsoft Store, klik på \"Installér\" eller \"Get\" -knappen. Dette vil begynde at downloade og installere Visual Studio Code på din computer. Afhængigt af din internetforbindelseshastighed og din computers ydeevne, kan installationen tage et par minutter."
   ]
  },
  {
   "cell_type": "markdown",
   "metadata": {},
   "source": [
    "<img src=\"Windows-Visual Studio Code Installatio-1.png\" alt=\"3-channel-1-channel\" style=\"width:900px; height:500px;\"/>"
   ]
  },
  {
   "cell_type": "markdown",
   "metadata": {},
   "source": [
    "3. Når installationen er færdig, kan du åbne Visual Studio Code ved at klikke på \"Start\" og derefter søge efter \"Visual Studio Code\" i søgefeltet. Du bør se Visual Studio Code-appen i dine apps, hvor du kan åbne den. Du kan også starte det fra terminalen ved at skrive \"code\"."
   ]
  },
  {
   "cell_type": "markdown",
   "metadata": {},
   "source": [
    "### **Installer Visual Studio Code På Mac OS**"
   ]
  },
  {
   "cell_type": "markdown",
   "metadata": {},
   "source": [
    "1. Besøg den officielle Visual Studio Code hjemmeside på https://code.visualstudio.com/. På forsiden finder du en fremtrædende knap med teksten \"Download til Windows/Mac/Linux\"."
   ]
  },
  {
   "cell_type": "markdown",
   "metadata": {},
   "source": [
    "<img src=\"MAc-VScode-Installation-0.png\" alt=\"3-channel-1-channel\" style=\"width:900px; height:450px;\"/>"
   ]
  },
  {
   "cell_type": "markdown",
   "metadata": {},
   "source": [
    "2. Klik på den relevante downloadknap baseret på dit operativsystem (macOS). Dette starter downloadprocessen af Visual Studio Code-diskbilledet til din Mac.  \n",
    "\n",
    "3. Når downloadet er fuldført, skal du dobbeltklikke på filen (normalt navngivet VSCode-darwin-universal.zip) i din Downloads-mappe og pakke den ud. Nu har du applikationen.    \n",
    "\n",
    "4. Træk Visual Studio Code-ikonet til \"Apps\"-mappen.    \n",
    "\n",
    "5. Åbn din \"Apps\"-mappe og find Visual Studio Code. Dobbeltklik på Visual Studio Code for at åbne det."
   ]
  },
  {
   "cell_type": "markdown",
   "metadata": {},
   "source": [
    "### **Opsætning af Python og Jupyter Notebook i Visual Studio Code**"
   ]
  },
  {
   "cell_type": "markdown",
   "metadata": {},
   "source": [
    "1. Efter installationen, åbn Visual Studio Code. På fanen \"View\" skal du klikke på Terminal for at åbne Terminalen."
   ]
  },
  {
   "cell_type": "markdown",
   "metadata": {},
   "source": [
    "<img src=\"JP-VScode-Installation-1.png\" alt=\"3-channel-1-channel\" style=\"width:900px; height:500px;\"/>"
   ]
  },
  {
   "cell_type": "markdown",
   "metadata": {},
   "source": [
    "2. Kør \"pip install jupyter\" for at installere det."
   ]
  },
  {
   "cell_type": "markdown",
   "metadata": {},
   "source": [
    "<img src=\"JP-VScode-Installation-2.png\" alt=\"3-channel-1-channel\" style=\"width:900px; height:500px;\"/>"
   ]
  },
  {
   "cell_type": "markdown",
   "metadata": {},
   "source": [
    "3. Når Jupyter er installeret, gå til Extensions view ved at klikke på Extensions-ikonet i Aktivitetsbjælken på siden af vinduet. Søg efter \"Python\" i Extensions view, vælg det første resultat, og installer \"Python\"-udvidelsen fra Microsoft."
   ]
  },
  {
   "cell_type": "markdown",
   "metadata": {},
   "source": [
    "<img src=\"JP-VScode-Installation-3.png\" alt=\"3-channel-1-channel\" style=\"width:900px; height:500px;\"/>"
   ]
  },
  {
   "cell_type": "markdown",
   "metadata": {},
   "source": [
    "<img src=\"JP-VScode-Installation-4.png\" alt=\"3-channel-1-channel\" style=\"width:900px; height:500px;\"/>"
   ]
  },
  {
   "cell_type": "markdown",
   "metadata": {},
   "source": [
    "4. Efter installation af Python-udvidelsen, søg efter \"Jupyter\" i Extensions view, vælg det første resultat og installer \"Jupyter\"-udvidelsen fra Microsoft."
   ]
  },
  {
   "cell_type": "markdown",
   "metadata": {},
   "source": [
    "<img src=\"JP-VScode-Installation-5.png\" alt=\"3-channel-1-channel\" style=\"width:900px; height:500px;\"/>"
   ]
  },
  {
   "cell_type": "markdown",
   "metadata": {},
   "source": [
    "5. Gå til Explorer view ved at klikke på Explorer-ikonet i Aktivitetsbjælken på siden af vinduet, og åbn en ny eller eksisterende mappe i Visual Studio Code, hvor du vil arbejde med Jupyter Notebooks."
   ]
  },
  {
   "cell_type": "markdown",
   "metadata": {},
   "source": [
    "<img src=\"JP-VScode-Installation-6.png\" alt=\"3-channel-1-channel\" style=\"width:900px; height:500px;\"/>"
   ]
  },
  {
   "cell_type": "markdown",
   "metadata": {},
   "source": [
    "6. Efter at have åbnet en mappe til dit arbejde, skal du klikke på fanen \"View\" og vælge \"Command Palette\" for at oprette en ny Jupyter Notebook."
   ]
  },
  {
   "cell_type": "markdown",
   "metadata": {},
   "source": [
    "<img src=\"JP-VScode-Installation-7.png\" alt=\"3-channel-1-channel\" style=\"width:900px; height:500px;\"/>"
   ]
  },
  {
   "cell_type": "markdown",
   "metadata": {},
   "source": [
    "<img src=\"JP-VScode-Installation-8.png\" alt=\"3-channel-1-channel\" style=\"width:900px; height:500px;\"/>"
   ]
  },
  {
   "cell_type": "markdown",
   "metadata": {},
   "source": [
    "7. Nu kan du køre en hvilken som helst kommando i cellen ved at klikke på trekantknappen på venstre side af cellen. Når du kører for første gang, skal du vælge en Python-interpreter."
   ]
  },
  {
   "cell_type": "markdown",
   "metadata": {},
   "source": [
    "<img src=\"JP-VScode-Installation-9.png\" alt=\"3-channel-1-channel\" style=\"width:900px; height:500px;\"/>"
   ]
  },
  {
   "cell_type": "markdown",
   "metadata": {},
   "source": [
    "<img src=\"JP-VScode-Installation-10.png\" alt=\"3-channel-1-channel\" style=\"width:900px; height:500px;\"/>"
   ]
  }
 ],
 "metadata": {
  "language_info": {
   "name": "python"
  }
 },
 "nbformat": 4,
 "nbformat_minor": 2
}
