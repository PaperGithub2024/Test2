{
 "cells": [
  {
   "cell_type": "markdown",
   "metadata": {},
   "source": [
    "# Installation af Python"
   ]
  },
  {
   "cell_type": "markdown",
   "metadata": {},
   "source": [
    "### **Installation af Python på Windows**"
   ]
  },
  {
   "cell_type": "markdown",
   "metadata": {},
   "source": [
    "1. Klik ***på Microsoft Store-appen for at åbne den. Edited*** Akam"
   ]
  },
  {
   "cell_type": "markdown",
   "metadata": {},
   "source": [
    "<img src=\"./images/JP-VScode-Installation-1.png\" alt=\"123\" style=\"width:900px; height:500px;\"/>"
   ]
  },
  {
   "cell_type": "markdown",
   "metadata": {},
   "source": [
    "2. I Microsoft Store, skriv \"Python\" i søgefeltet øverst, og tryk Enter. Du vil se forskellige versioner af Python tilgængelige. Vælg den version, der passer bedst til dine behov (\"Python 3.9\" eller \"Python 3.10\" anbefales). Klik på den ønskede Python-version for at åbne dens beskrivelsesside."
   ]
  },
  {
   "cell_type": "markdown",
   "metadata": {},
   "source": [
    "<img src=\"./images/JP-VScode-Installation-3.png\" alt=\"345\" style=\"width:900px; height:500px;\"/>"
   ]
  },
  {
   "cell_type": "markdown",
   "metadata": {},
   "source": [
    "3. På Python's side i Microsoft Store, klik på \"Installér\" eller \"Get\" -knappen. Dette vil begynde at downloade og installere Python på din computer. Afhængigt af din internetforbindelseshastighed og din computers ydeevne, kan installationen tage et par minutter. "
   ]
  },
  {
   "cell_type": "markdown",
   "metadata": {},
   "source": [
    "<img src=\"./images/JP-VScode-Installation-10.png\" style=\"width:900px; height:500px;\"/>"
   ]
  },
  {
   "cell_type": "markdown",
   "metadata": {},
   "source": [
    "4. Når installationen er færdig, kan du åbne Python ved at klikke på \"Start\" og derefter søge efter \"Python\" i søgefeltet. Du bør se Python-mappen i dine apps, hvor du kan finde Python-interpreteren og andre relaterede værktøjer."
   ]
  },
  {
   "cell_type": "markdown",
   "metadata": {},
   "source": [
    "#### Verificer din installation"
   ]
  },
  {
   "cell_type": "markdown",
   "metadata": {},
   "source": [
    "For at verificere, at Python er installeret korrekt, åbn en kommandoprompt ved at søge efter \"cmd\" i Start-menuen og åbne det og skriv kommandoen: \"python --version\" eller \"python3 --version\". Du skal se den installerede Python-version udskrevet i kommandoprompten, hvilket bekræfter, at Python er installeret korrekt."
   ]
  },
  {
   "cell_type": "markdown",
   "metadata": {},
   "source": [
    "<img src=\"Python-Verification.png\" alt=\"3-channel-1-channel\" style=\"width:900px; height:500px;\"/>"
   ]
  },
  {
   "cell_type": "markdown",
   "metadata": {},
   "source": [
    "### **Installation af Python på Mac OS**"
   ]
  },
  {
   "cell_type": "markdown",
   "metadata": {},
   "source": [
    "MacOS leveres normalt med Python forud installeret. Åbn Terminal og skriv \"python3 --version\" for at tjekke det. Hvis det ikke er installeret, kan du downloade installationsprogrammet fra Python Downloads (https://www.python.org/downloads/)."
   ]
  },
  {
   "cell_type": "markdown",
   "metadata": {},
   "source": [
    "<img src=\"Mac-Installation-0.png\" alt=\"3-channel-1-channel\" style=\"width:900px; height:400px;\"/>"
   ]
  },
  {
   "cell_type": "markdown",
   "metadata": {},
   "source": [
    "Følg vejledningen på skærmen for at installere Python."
   ]
  },
  {
   "cell_type": "markdown",
   "metadata": {},
   "source": [
    "<img src=\"Mac-Installation-1.png\" alt=\"3-channel-1-channel\" style=\"width:900px; height:400px;\"/>"
   ]
  },
  {
   "cell_type": "markdown",
   "metadata": {},
   "source": [
    "<img src=\"Mac-Installation-2.png\" alt=\"3-channel-1-channel\" style=\"width:900px; height:400px;\"/>"
   ]
  },
  {
   "cell_type": "markdown",
   "metadata": {},
   "source": [
    "<img src=\"Mac-Installation-3.png\" alt=\"3-channel-1-channel\" style=\"width:900px; height:400px;\"/>"
   ]
  },
  {
   "cell_type": "markdown",
   "metadata": {},
   "source": [
    "<img src=\"Mac-Installation-4.png\" alt=\"3-channel-1-channel\" style=\"width:900px; height:400px;\"/>"
   ]
  }
 ],
 "metadata": {
  "language_info": {
   "name": "python"
  }
 },
 "nbformat": 4,
 "nbformat_minor": 2
}
